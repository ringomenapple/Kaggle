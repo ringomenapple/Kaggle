{
 "cells": [
  {
   "cell_type": "code",
   "execution_count": 1,
   "metadata": {
    "collapsed": true
   },
   "outputs": [],
   "source": [
    "import numpy as np\n",
    "import pandas as pd\n",
    "from pandas import Series,DataFrame\n",
    "import seaborn as sns\n",
    "import matplotlib.pyplot as plt\n",
    "%matplotlib inline"
   ]
  },
  {
   "cell_type": "code",
   "execution_count": 2,
   "metadata": {
    "scrolled": false
   },
   "outputs": [
    {
     "data": {
      "text/html": [
       "<div>\n",
       "<style>\n",
       "    .dataframe thead tr:only-child th {\n",
       "        text-align: right;\n",
       "    }\n",
       "\n",
       "    .dataframe thead th {\n",
       "        text-align: left;\n",
       "    }\n",
       "\n",
       "    .dataframe tbody tr th {\n",
       "        vertical-align: top;\n",
       "    }\n",
       "</style>\n",
       "<table border=\"1\" class=\"dataframe\">\n",
       "  <thead>\n",
       "    <tr style=\"text-align: right;\">\n",
       "      <th></th>\n",
       "      <th>Age</th>\n",
       "      <th>Cabin</th>\n",
       "      <th>Embarked</th>\n",
       "      <th>Fare</th>\n",
       "      <th>Name</th>\n",
       "      <th>Parch</th>\n",
       "      <th>PassengerId</th>\n",
       "      <th>Pclass</th>\n",
       "      <th>Sex</th>\n",
       "      <th>SibSp</th>\n",
       "      <th>Survived</th>\n",
       "      <th>Ticket</th>\n",
       "    </tr>\n",
       "  </thead>\n",
       "  <tbody>\n",
       "    <tr>\n",
       "      <th>0</th>\n",
       "      <td>22.0</td>\n",
       "      <td>NaN</td>\n",
       "      <td>S</td>\n",
       "      <td>7.2500</td>\n",
       "      <td>Braund, Mr. Owen Harris</td>\n",
       "      <td>0</td>\n",
       "      <td>1</td>\n",
       "      <td>3</td>\n",
       "      <td>male</td>\n",
       "      <td>1</td>\n",
       "      <td>0</td>\n",
       "      <td>A/5 21171</td>\n",
       "    </tr>\n",
       "    <tr>\n",
       "      <th>1</th>\n",
       "      <td>38.0</td>\n",
       "      <td>C85</td>\n",
       "      <td>C</td>\n",
       "      <td>71.2833</td>\n",
       "      <td>Cumings, Mrs. John Bradley (Florence Briggs Th...</td>\n",
       "      <td>0</td>\n",
       "      <td>2</td>\n",
       "      <td>1</td>\n",
       "      <td>female</td>\n",
       "      <td>1</td>\n",
       "      <td>1</td>\n",
       "      <td>PC 17599</td>\n",
       "    </tr>\n",
       "    <tr>\n",
       "      <th>2</th>\n",
       "      <td>26.0</td>\n",
       "      <td>NaN</td>\n",
       "      <td>S</td>\n",
       "      <td>7.9250</td>\n",
       "      <td>Heikkinen, Miss. Laina</td>\n",
       "      <td>0</td>\n",
       "      <td>3</td>\n",
       "      <td>3</td>\n",
       "      <td>female</td>\n",
       "      <td>0</td>\n",
       "      <td>1</td>\n",
       "      <td>STON/O2. 3101282</td>\n",
       "    </tr>\n",
       "    <tr>\n",
       "      <th>3</th>\n",
       "      <td>35.0</td>\n",
       "      <td>C123</td>\n",
       "      <td>S</td>\n",
       "      <td>53.1000</td>\n",
       "      <td>Futrelle, Mrs. Jacques Heath (Lily May Peel)</td>\n",
       "      <td>0</td>\n",
       "      <td>4</td>\n",
       "      <td>1</td>\n",
       "      <td>female</td>\n",
       "      <td>1</td>\n",
       "      <td>1</td>\n",
       "      <td>113803</td>\n",
       "    </tr>\n",
       "    <tr>\n",
       "      <th>4</th>\n",
       "      <td>35.0</td>\n",
       "      <td>NaN</td>\n",
       "      <td>S</td>\n",
       "      <td>8.0500</td>\n",
       "      <td>Allen, Mr. William Henry</td>\n",
       "      <td>0</td>\n",
       "      <td>5</td>\n",
       "      <td>3</td>\n",
       "      <td>male</td>\n",
       "      <td>0</td>\n",
       "      <td>0</td>\n",
       "      <td>373450</td>\n",
       "    </tr>\n",
       "  </tbody>\n",
       "</table>\n",
       "</div>"
      ],
      "text/plain": [
       "    Age Cabin Embarked     Fare  \\\n",
       "0  22.0   NaN        S   7.2500   \n",
       "1  38.0   C85        C  71.2833   \n",
       "2  26.0   NaN        S   7.9250   \n",
       "3  35.0  C123        S  53.1000   \n",
       "4  35.0   NaN        S   8.0500   \n",
       "\n",
       "                                                Name  Parch  PassengerId  \\\n",
       "0                            Braund, Mr. Owen Harris      0            1   \n",
       "1  Cumings, Mrs. John Bradley (Florence Briggs Th...      0            2   \n",
       "2                             Heikkinen, Miss. Laina      0            3   \n",
       "3       Futrelle, Mrs. Jacques Heath (Lily May Peel)      0            4   \n",
       "4                           Allen, Mr. William Henry      0            5   \n",
       "\n",
       "   Pclass     Sex  SibSp  Survived            Ticket  \n",
       "0       3    male      1         0         A/5 21171  \n",
       "1       1  female      1         1          PC 17599  \n",
       "2       3  female      0         1  STON/O2. 3101282  \n",
       "3       1  female      1         1            113803  \n",
       "4       3    male      0         0            373450  "
      ]
     },
     "execution_count": 2,
     "metadata": {},
     "output_type": "execute_result"
    }
   ],
   "source": [
    "df1 = pd.read_csv('train.csv')\n",
    "X_test = pd.read_csv('test.csv')\n",
    "Y_test = pd.read_csv('gender_submission.csv')\n",
    "test = pd.merge(X_test, Y_test, how=\"outer\", on=\"PassengerId\")\n",
    "df = pd.concat([df1, test], axis=0).reset_index(drop=True)\n",
    "\n",
    "df.head()"
   ]
  },
  {
   "cell_type": "code",
   "execution_count": 3,
   "metadata": {},
   "outputs": [
    {
     "data": {
      "text/plain": [
       "Age             263\n",
       "Cabin          1014\n",
       "Embarked          2\n",
       "Fare              1\n",
       "Name              0\n",
       "Parch             0\n",
       "PassengerId       0\n",
       "Pclass            0\n",
       "Sex               0\n",
       "SibSp             0\n",
       "Survived          0\n",
       "Ticket            0\n",
       "dtype: int64"
      ]
     },
     "execution_count": 3,
     "metadata": {},
     "output_type": "execute_result"
    }
   ],
   "source": [
    "#先ずは欠損値の確認\n",
    "df.isnull().sum()"
   ]
  },
  {
   "cell_type": "code",
   "execution_count": 4,
   "metadata": {
    "scrolled": true
   },
   "outputs": [
    {
     "data": {
      "text/html": [
       "<div>\n",
       "<style>\n",
       "    .dataframe thead tr:only-child th {\n",
       "        text-align: right;\n",
       "    }\n",
       "\n",
       "    .dataframe thead th {\n",
       "        text-align: left;\n",
       "    }\n",
       "\n",
       "    .dataframe tbody tr th {\n",
       "        vertical-align: top;\n",
       "    }\n",
       "</style>\n",
       "<table border=\"1\" class=\"dataframe\">\n",
       "  <thead>\n",
       "    <tr style=\"text-align: right;\">\n",
       "      <th></th>\n",
       "      <th>Age</th>\n",
       "      <th>Cabin</th>\n",
       "      <th>Fare</th>\n",
       "      <th>Name</th>\n",
       "      <th>Parch</th>\n",
       "      <th>PassengerId</th>\n",
       "      <th>Pclass</th>\n",
       "      <th>SibSp</th>\n",
       "      <th>Survived</th>\n",
       "      <th>Ticket</th>\n",
       "      <th>Em_C</th>\n",
       "      <th>Em_Q</th>\n",
       "      <th>Sex_male</th>\n",
       "    </tr>\n",
       "  </thead>\n",
       "  <tbody>\n",
       "    <tr>\n",
       "      <th>0</th>\n",
       "      <td>22.0</td>\n",
       "      <td>NaN</td>\n",
       "      <td>7.2500</td>\n",
       "      <td>Braund, Mr. Owen Harris</td>\n",
       "      <td>0</td>\n",
       "      <td>1</td>\n",
       "      <td>3</td>\n",
       "      <td>1</td>\n",
       "      <td>0</td>\n",
       "      <td>A/5 21171</td>\n",
       "      <td>0</td>\n",
       "      <td>0</td>\n",
       "      <td>1</td>\n",
       "    </tr>\n",
       "    <tr>\n",
       "      <th>1</th>\n",
       "      <td>38.0</td>\n",
       "      <td>C85</td>\n",
       "      <td>71.2833</td>\n",
       "      <td>Cumings, Mrs. John Bradley (Florence Briggs Th...</td>\n",
       "      <td>0</td>\n",
       "      <td>2</td>\n",
       "      <td>1</td>\n",
       "      <td>1</td>\n",
       "      <td>1</td>\n",
       "      <td>PC 17599</td>\n",
       "      <td>1</td>\n",
       "      <td>0</td>\n",
       "      <td>0</td>\n",
       "    </tr>\n",
       "    <tr>\n",
       "      <th>2</th>\n",
       "      <td>26.0</td>\n",
       "      <td>NaN</td>\n",
       "      <td>7.9250</td>\n",
       "      <td>Heikkinen, Miss. Laina</td>\n",
       "      <td>0</td>\n",
       "      <td>3</td>\n",
       "      <td>3</td>\n",
       "      <td>0</td>\n",
       "      <td>1</td>\n",
       "      <td>STON/O2. 3101282</td>\n",
       "      <td>0</td>\n",
       "      <td>0</td>\n",
       "      <td>0</td>\n",
       "    </tr>\n",
       "    <tr>\n",
       "      <th>3</th>\n",
       "      <td>35.0</td>\n",
       "      <td>C123</td>\n",
       "      <td>53.1000</td>\n",
       "      <td>Futrelle, Mrs. Jacques Heath (Lily May Peel)</td>\n",
       "      <td>0</td>\n",
       "      <td>4</td>\n",
       "      <td>1</td>\n",
       "      <td>1</td>\n",
       "      <td>1</td>\n",
       "      <td>113803</td>\n",
       "      <td>0</td>\n",
       "      <td>0</td>\n",
       "      <td>0</td>\n",
       "    </tr>\n",
       "    <tr>\n",
       "      <th>4</th>\n",
       "      <td>35.0</td>\n",
       "      <td>NaN</td>\n",
       "      <td>8.0500</td>\n",
       "      <td>Allen, Mr. William Henry</td>\n",
       "      <td>0</td>\n",
       "      <td>5</td>\n",
       "      <td>3</td>\n",
       "      <td>0</td>\n",
       "      <td>0</td>\n",
       "      <td>373450</td>\n",
       "      <td>0</td>\n",
       "      <td>0</td>\n",
       "      <td>1</td>\n",
       "    </tr>\n",
       "  </tbody>\n",
       "</table>\n",
       "</div>"
      ],
      "text/plain": [
       "    Age Cabin     Fare                                               Name  \\\n",
       "0  22.0   NaN   7.2500                            Braund, Mr. Owen Harris   \n",
       "1  38.0   C85  71.2833  Cumings, Mrs. John Bradley (Florence Briggs Th...   \n",
       "2  26.0   NaN   7.9250                             Heikkinen, Miss. Laina   \n",
       "3  35.0  C123  53.1000       Futrelle, Mrs. Jacques Heath (Lily May Peel)   \n",
       "4  35.0   NaN   8.0500                           Allen, Mr. William Henry   \n",
       "\n",
       "   Parch  PassengerId  Pclass  SibSp  Survived            Ticket  Em_C  Em_Q  \\\n",
       "0      0            1       3      1         0         A/5 21171     0     0   \n",
       "1      0            2       1      1         1          PC 17599     1     0   \n",
       "2      0            3       3      0         1  STON/O2. 3101282     0     0   \n",
       "3      0            4       1      1         1            113803     0     0   \n",
       "4      0            5       3      0         0            373450     0     0   \n",
       "\n",
       "   Sex_male  \n",
       "0         1  \n",
       "1         0  \n",
       "2         0  \n",
       "3         0  \n",
       "4         1  "
      ]
     },
     "execution_count": 4,
     "metadata": {},
     "output_type": "execute_result"
    }
   ],
   "source": [
    "#'embarked','sex'をダミー変数化\n",
    "df = pd.get_dummies(df, columns=[\"Embarked\"], prefix=\"Em\")\n",
    "df = pd.get_dummies(df, columns=[\"Sex\"])\n",
    "df = df.drop('Sex_female',axis=1)\n",
    "df = df.drop('Em_S',axis=1)\n",
    "df.head()"
   ]
  },
  {
   "cell_type": "code",
   "execution_count": 5,
   "metadata": {
    "collapsed": true
   },
   "outputs": [],
   "source": [
    "#年齢の欠損値を平均で埋める\n",
    "median_age = df[\"Age\"].dropna().median()\n",
    "if len(df.Age[df.Age.isnull()]) > 0:\n",
    "  df.loc[(df.Age.isnull()), \"Age\"] = median_age"
   ]
  },
  {
   "cell_type": "code",
   "execution_count": 6,
   "metadata": {
    "collapsed": true
   },
   "outputs": [],
   "source": [
    "#運賃も同様\n",
    "df[\"Fare\"] = df[\"Fare\"].fillna(df[\"Fare\"].median())"
   ]
  },
  {
   "cell_type": "code",
   "execution_count": 7,
   "metadata": {
    "scrolled": true
   },
   "outputs": [
    {
     "data": {
      "text/html": [
       "<div>\n",
       "<style>\n",
       "    .dataframe thead tr:only-child th {\n",
       "        text-align: right;\n",
       "    }\n",
       "\n",
       "    .dataframe thead th {\n",
       "        text-align: left;\n",
       "    }\n",
       "\n",
       "    .dataframe tbody tr th {\n",
       "        vertical-align: top;\n",
       "    }\n",
       "</style>\n",
       "<table border=\"1\" class=\"dataframe\">\n",
       "  <thead>\n",
       "    <tr style=\"text-align: right;\">\n",
       "      <th></th>\n",
       "      <th>Age</th>\n",
       "      <th>Fare</th>\n",
       "      <th>Parch</th>\n",
       "      <th>Pclass</th>\n",
       "      <th>SibSp</th>\n",
       "      <th>Survived</th>\n",
       "      <th>Em_C</th>\n",
       "      <th>Em_Q</th>\n",
       "      <th>Sex_male</th>\n",
       "    </tr>\n",
       "  </thead>\n",
       "  <tbody>\n",
       "    <tr>\n",
       "      <th>Age</th>\n",
       "      <td>1.000000</td>\n",
       "      <td>0.033900</td>\n",
       "      <td>-0.135488</td>\n",
       "      <td>-0.321962</td>\n",
       "      <td>-0.058641</td>\n",
       "      <td>-0.148568</td>\n",
       "      <td>0.087913</td>\n",
       "      <td>-0.019325</td>\n",
       "      <td>0.087231</td>\n",
       "    </tr>\n",
       "    <tr>\n",
       "      <th>Fare</th>\n",
       "      <td>0.033900</td>\n",
       "      <td>1.000000</td>\n",
       "      <td>0.391883</td>\n",
       "      <td>-0.313012</td>\n",
       "      <td>0.279720</td>\n",
       "      <td>0.134212</td>\n",
       "      <td>0.248151</td>\n",
       "      <td>-0.039797</td>\n",
       "      <td>-0.160773</td>\n",
       "    </tr>\n",
       "    <tr>\n",
       "      <th>Parch</th>\n",
       "      <td>-0.135488</td>\n",
       "      <td>0.391883</td>\n",
       "      <td>1.000000</td>\n",
       "      <td>0.031053</td>\n",
       "      <td>0.266089</td>\n",
       "      <td>0.091423</td>\n",
       "      <td>-0.030737</td>\n",
       "      <td>-0.076180</td>\n",
       "      <td>-0.136419</td>\n",
       "    </tr>\n",
       "    <tr>\n",
       "      <th>Pclass</th>\n",
       "      <td>-0.321962</td>\n",
       "      <td>-0.313012</td>\n",
       "      <td>0.031053</td>\n",
       "      <td>1.000000</td>\n",
       "      <td>-0.110235</td>\n",
       "      <td>-0.048503</td>\n",
       "      <td>-0.162794</td>\n",
       "      <td>0.106465</td>\n",
       "      <td>-0.009471</td>\n",
       "    </tr>\n",
       "    <tr>\n",
       "      <th>SibSp</th>\n",
       "      <td>-0.058641</td>\n",
       "      <td>0.279720</td>\n",
       "      <td>0.266089</td>\n",
       "      <td>-0.110235</td>\n",
       "      <td>1.000000</td>\n",
       "      <td>0.135991</td>\n",
       "      <td>-0.041637</td>\n",
       "      <td>0.066254</td>\n",
       "      <td>-0.162575</td>\n",
       "    </tr>\n",
       "    <tr>\n",
       "      <th>Survived</th>\n",
       "      <td>-0.148568</td>\n",
       "      <td>0.134212</td>\n",
       "      <td>0.091423</td>\n",
       "      <td>-0.048503</td>\n",
       "      <td>0.135991</td>\n",
       "      <td>1.000000</td>\n",
       "      <td>0.028375</td>\n",
       "      <td>-0.002738</td>\n",
       "      <td>-0.681338</td>\n",
       "    </tr>\n",
       "    <tr>\n",
       "      <th>Em_C</th>\n",
       "      <td>0.087913</td>\n",
       "      <td>0.248151</td>\n",
       "      <td>-0.030737</td>\n",
       "      <td>-0.162794</td>\n",
       "      <td>-0.041637</td>\n",
       "      <td>0.028375</td>\n",
       "      <td>1.000000</td>\n",
       "      <td>-0.107211</td>\n",
       "      <td>-0.036016</td>\n",
       "    </tr>\n",
       "    <tr>\n",
       "      <th>Em_Q</th>\n",
       "      <td>-0.019325</td>\n",
       "      <td>-0.039797</td>\n",
       "      <td>-0.076180</td>\n",
       "      <td>0.106465</td>\n",
       "      <td>0.066254</td>\n",
       "      <td>-0.002738</td>\n",
       "      <td>-0.107211</td>\n",
       "      <td>1.000000</td>\n",
       "      <td>-0.032079</td>\n",
       "    </tr>\n",
       "    <tr>\n",
       "      <th>Sex_male</th>\n",
       "      <td>0.087231</td>\n",
       "      <td>-0.160773</td>\n",
       "      <td>-0.136419</td>\n",
       "      <td>-0.009471</td>\n",
       "      <td>-0.162575</td>\n",
       "      <td>-0.681338</td>\n",
       "      <td>-0.036016</td>\n",
       "      <td>-0.032079</td>\n",
       "      <td>1.000000</td>\n",
       "    </tr>\n",
       "  </tbody>\n",
       "</table>\n",
       "</div>"
      ],
      "text/plain": [
       "               Age      Fare     Parch    Pclass     SibSp  Survived  \\\n",
       "Age       1.000000  0.033900 -0.135488 -0.321962 -0.058641 -0.148568   \n",
       "Fare      0.033900  1.000000  0.391883 -0.313012  0.279720  0.134212   \n",
       "Parch    -0.135488  0.391883  1.000000  0.031053  0.266089  0.091423   \n",
       "Pclass   -0.321962 -0.313012  0.031053  1.000000 -0.110235 -0.048503   \n",
       "SibSp    -0.058641  0.279720  0.266089 -0.110235  1.000000  0.135991   \n",
       "Survived -0.148568  0.134212  0.091423 -0.048503  0.135991  1.000000   \n",
       "Em_C      0.087913  0.248151 -0.030737 -0.162794 -0.041637  0.028375   \n",
       "Em_Q     -0.019325 -0.039797 -0.076180  0.106465  0.066254 -0.002738   \n",
       "Sex_male  0.087231 -0.160773 -0.136419 -0.009471 -0.162575 -0.681338   \n",
       "\n",
       "              Em_C      Em_Q  Sex_male  \n",
       "Age       0.087913 -0.019325  0.087231  \n",
       "Fare      0.248151 -0.039797 -0.160773  \n",
       "Parch    -0.030737 -0.076180 -0.136419  \n",
       "Pclass   -0.162794  0.106465 -0.009471  \n",
       "SibSp    -0.041637  0.066254 -0.162575  \n",
       "Survived  0.028375 -0.002738 -0.681338  \n",
       "Em_C      1.000000 -0.107211 -0.036016  \n",
       "Em_Q     -0.107211  1.000000 -0.032079  \n",
       "Sex_male -0.036016 -0.032079  1.000000  "
      ]
     },
     "execution_count": 7,
     "metadata": {},
     "output_type": "execute_result"
    }
   ],
   "source": [
    "#相関を見てみる\n",
    "df_c = df.dropna()\n",
    "df_c = df_c.drop('PassengerId',axis=1)\n",
    "df_c = df_c.drop('Name',axis=1)\n",
    "df_c = df_c.drop('Ticket',axis=1)\n",
    "df_c = df_c.drop('Cabin',axis=1)\n",
    " \n",
    "df_c.corr()"
   ]
  },
  {
   "cell_type": "code",
   "execution_count": 8,
   "metadata": {},
   "outputs": [
    {
     "name": "stderr",
     "output_type": "stream",
     "text": [
      "/Users/ykmtr/anaconda3/lib/python3.6/site-packages/ipykernel_launcher.py:10: SettingWithCopyWarning: \n",
      "A value is trying to be set on a copy of a slice from a DataFrame.\n",
      "Try using .loc[row_indexer,col_indexer] = value instead\n",
      "\n",
      "See the caveats in the documentation: http://pandas.pydata.org/pandas-docs/stable/indexing.html#indexing-view-versus-copy\n",
      "  # Remove the CWD from sys.path while we load stuff.\n"
     ]
    }
   ],
   "source": [
    "#a~fを文字に変換\n",
    "cabin_df = df.dropna(subset=['Cabin'])\n",
    "deck = df['Cabin'].dropna()\n",
    "levels = []\n",
    "# 1文字目を取り出します。\n",
    "for level in deck:\n",
    "    levels.append(level[0])    \n",
    "\n",
    "# DataFrameを作って、プロットします。\n",
    "cabin_df['Level'] =levels\n",
    "cabin_df = cabin_df[cabin_df.Cabin != 'T']\n",
    "\n",
    "#sns.factorplot('Level','Survived',data=cabin_df, order=['A','B','C','D','E','F','G'], aspect=2)\n",
    "#sns.violinplot('Level','Survived',data=cabin_df, order=['A','B','C','D','E','F','G'], aspect=2, palette='PuBu')\n"
   ]
  },
  {
   "cell_type": "code",
   "execution_count": 9,
   "metadata": {
    "collapsed": true
   },
   "outputs": [],
   "source": [
    "#チケットわよくわからないから削除\n",
    "df = df.drop('Ticket',axis=1)"
   ]
  },
  {
   "cell_type": "code",
   "execution_count": 10,
   "metadata": {
    "collapsed": true
   },
   "outputs": [],
   "source": [
    "#運賃の対数を取る\n",
    "prices =df[\"Fare\"].map(lambda i: np.log(i) if i > 0 else 0)\n",
    "\n",
    "df['Price'] =prices"
   ]
  },
  {
   "cell_type": "code",
   "execution_count": 11,
   "metadata": {
    "collapsed": true
   },
   "outputs": [],
   "source": [
    "#どっちが使えるかな\n",
    "#df = df.drop('Fare',axis=1)\n",
    "#df = df.drop('Price',axis=1)"
   ]
  },
  {
   "cell_type": "code",
   "execution_count": 12,
   "metadata": {
    "collapsed": true
   },
   "outputs": [],
   "source": [
    "#独り身か否か\n",
    "df['Group'] =  df.Parch + df.SibSp"
   ]
  },
  {
   "cell_type": "code",
   "execution_count": 13,
   "metadata": {
    "collapsed": true
   },
   "outputs": [],
   "source": [
    "#称号で判断\n",
    "title = [i.split(\",\")[1].split(\".\")[0].strip() for i in df[\"Name\"]]\n",
    "df[\"Title\"] = pd.Series(title)\n",
    "\n",
    "df[\"Title\"] = df[\"Title\"].replace(['the Countess','Countess','Capt', 'Col','Don', 'Dr', 'Major', 'Rev', 'Sir', 'Jonkheer', 'Dona'], 'Rare')\n",
    "df[\"Title\"] = df[\"Title\"].map({\"Master\":0, \"Miss\":1, \"Ms\":1, \"Mme\":1, \"Mlle\":1, \"Lady\":1, \"Mrs\":2, \"Mr\":3, \"Rare\":4})\n",
    "df[\"Title\"] = df[\"Title\"].astype('int')"
   ]
  },
  {
   "cell_type": "code",
   "execution_count": 14,
   "metadata": {},
   "outputs": [
    {
     "data": {
      "text/html": [
       "<div>\n",
       "<style>\n",
       "    .dataframe thead tr:only-child th {\n",
       "        text-align: right;\n",
       "    }\n",
       "\n",
       "    .dataframe thead th {\n",
       "        text-align: left;\n",
       "    }\n",
       "\n",
       "    .dataframe tbody tr th {\n",
       "        vertical-align: top;\n",
       "    }\n",
       "</style>\n",
       "<table border=\"1\" class=\"dataframe\">\n",
       "  <thead>\n",
       "    <tr style=\"text-align: right;\">\n",
       "      <th></th>\n",
       "      <th>Age</th>\n",
       "      <th>Cabin</th>\n",
       "      <th>Fare</th>\n",
       "      <th>Name</th>\n",
       "      <th>Parch</th>\n",
       "      <th>PassengerId</th>\n",
       "      <th>Pclass</th>\n",
       "      <th>SibSp</th>\n",
       "      <th>Survived</th>\n",
       "      <th>Em_C</th>\n",
       "      <th>Em_Q</th>\n",
       "      <th>Sex_male</th>\n",
       "      <th>Price</th>\n",
       "      <th>Group</th>\n",
       "      <th>Title</th>\n",
       "    </tr>\n",
       "  </thead>\n",
       "  <tbody>\n",
       "    <tr>\n",
       "      <th>0</th>\n",
       "      <td>22.0</td>\n",
       "      <td>NaN</td>\n",
       "      <td>7.2500</td>\n",
       "      <td>Braund, Mr. Owen Harris</td>\n",
       "      <td>0</td>\n",
       "      <td>1</td>\n",
       "      <td>3</td>\n",
       "      <td>1</td>\n",
       "      <td>0</td>\n",
       "      <td>0</td>\n",
       "      <td>0</td>\n",
       "      <td>1</td>\n",
       "      <td>1.981001</td>\n",
       "      <td>1</td>\n",
       "      <td>3</td>\n",
       "    </tr>\n",
       "    <tr>\n",
       "      <th>1</th>\n",
       "      <td>38.0</td>\n",
       "      <td>C85</td>\n",
       "      <td>71.2833</td>\n",
       "      <td>Cumings, Mrs. John Bradley (Florence Briggs Th...</td>\n",
       "      <td>0</td>\n",
       "      <td>2</td>\n",
       "      <td>1</td>\n",
       "      <td>1</td>\n",
       "      <td>1</td>\n",
       "      <td>1</td>\n",
       "      <td>0</td>\n",
       "      <td>0</td>\n",
       "      <td>4.266662</td>\n",
       "      <td>1</td>\n",
       "      <td>2</td>\n",
       "    </tr>\n",
       "    <tr>\n",
       "      <th>2</th>\n",
       "      <td>26.0</td>\n",
       "      <td>NaN</td>\n",
       "      <td>7.9250</td>\n",
       "      <td>Heikkinen, Miss. Laina</td>\n",
       "      <td>0</td>\n",
       "      <td>3</td>\n",
       "      <td>3</td>\n",
       "      <td>0</td>\n",
       "      <td>1</td>\n",
       "      <td>0</td>\n",
       "      <td>0</td>\n",
       "      <td>0</td>\n",
       "      <td>2.070022</td>\n",
       "      <td>0</td>\n",
       "      <td>1</td>\n",
       "    </tr>\n",
       "    <tr>\n",
       "      <th>3</th>\n",
       "      <td>35.0</td>\n",
       "      <td>C123</td>\n",
       "      <td>53.1000</td>\n",
       "      <td>Futrelle, Mrs. Jacques Heath (Lily May Peel)</td>\n",
       "      <td>0</td>\n",
       "      <td>4</td>\n",
       "      <td>1</td>\n",
       "      <td>1</td>\n",
       "      <td>1</td>\n",
       "      <td>0</td>\n",
       "      <td>0</td>\n",
       "      <td>0</td>\n",
       "      <td>3.972177</td>\n",
       "      <td>1</td>\n",
       "      <td>2</td>\n",
       "    </tr>\n",
       "    <tr>\n",
       "      <th>4</th>\n",
       "      <td>35.0</td>\n",
       "      <td>NaN</td>\n",
       "      <td>8.0500</td>\n",
       "      <td>Allen, Mr. William Henry</td>\n",
       "      <td>0</td>\n",
       "      <td>5</td>\n",
       "      <td>3</td>\n",
       "      <td>0</td>\n",
       "      <td>0</td>\n",
       "      <td>0</td>\n",
       "      <td>0</td>\n",
       "      <td>1</td>\n",
       "      <td>2.085672</td>\n",
       "      <td>0</td>\n",
       "      <td>3</td>\n",
       "    </tr>\n",
       "  </tbody>\n",
       "</table>\n",
       "</div>"
      ],
      "text/plain": [
       "    Age Cabin     Fare                                               Name  \\\n",
       "0  22.0   NaN   7.2500                            Braund, Mr. Owen Harris   \n",
       "1  38.0   C85  71.2833  Cumings, Mrs. John Bradley (Florence Briggs Th...   \n",
       "2  26.0   NaN   7.9250                             Heikkinen, Miss. Laina   \n",
       "3  35.0  C123  53.1000       Futrelle, Mrs. Jacques Heath (Lily May Peel)   \n",
       "4  35.0   NaN   8.0500                           Allen, Mr. William Henry   \n",
       "\n",
       "   Parch  PassengerId  Pclass  SibSp  Survived  Em_C  Em_Q  Sex_male  \\\n",
       "0      0            1       3      1         0     0     0         1   \n",
       "1      0            2       1      1         1     1     0         0   \n",
       "2      0            3       3      0         1     0     0         0   \n",
       "3      0            4       1      1         1     0     0         0   \n",
       "4      0            5       3      0         0     0     0         1   \n",
       "\n",
       "      Price  Group  Title  \n",
       "0  1.981001      1      3  \n",
       "1  4.266662      1      2  \n",
       "2  2.070022      0      1  \n",
       "3  3.972177      1      2  \n",
       "4  2.085672      0      3  "
      ]
     },
     "execution_count": 14,
     "metadata": {},
     "output_type": "execute_result"
    }
   ],
   "source": [
    "df.head()"
   ]
  },
  {
   "cell_type": "code",
   "execution_count": 15,
   "metadata": {},
   "outputs": [],
   "source": [
    "#家族は多分一緒に行動するはず\n",
    "survive_array = df.Survived\n",
    "surname=[]\n",
    "sn_count=[]\n",
    "sn_s_c=[]\n",
    "sn_s_r=[]\n",
    "s_r=[]\n",
    "name_i =0\n",
    "for i in df.Name:\n",
    "    if i.split(\",\")[0] in surname:\n",
    "        sn_count[surname.index(i.split(\",\")[0])] = sn_count[surname.index(i.split(\",\")[0])]+1\n",
    "        sn_s_c[surname.index(i.split(\",\")[0])] = sn_s_c[surname.index(i.split(\",\")[0])]+survive_array[name_i]\n",
    "    else:\n",
    "        surname.append(i.split(\",\")[0])\n",
    "        sn_count.append(1)\n",
    "        sn_s_c.append(survive_array[name_i])\n",
    "    name_i=name_i+1\n",
    "\n",
    "count = 0\n",
    "for i in sn_count:\n",
    "    if sn_count[count] == 1:\n",
    "        sn_s_r.append(0)\n",
    "    else:\n",
    "        sn_s_r.append(sn_s_c[count]/(sn_count[count]))\n",
    "    count = count + 1\n",
    "\n",
    "for i in df[\"Name\"]:    \n",
    "    s_r.append(sn_s_r[surname.index(i.split(\",\")[0])])\n",
    "    \n",
    "df['Family'] =s_r"
   ]
  },
  {
   "cell_type": "code",
   "execution_count": 16,
   "metadata": {
    "collapsed": true
   },
   "outputs": [],
   "source": [
    "#'Name','Cabin'はもうグッバイ\n",
    "df = df.drop('Name',axis=1)\n",
    "df = df.drop('Cabin',axis=1)"
   ]
  },
  {
   "cell_type": "code",
   "execution_count": 17,
   "metadata": {
    "collapsed": true
   },
   "outputs": [],
   "source": [
    "from sklearn.linear_model import LogisticRegression\n",
    "logreg = LogisticRegression()"
   ]
  },
  {
   "cell_type": "code",
   "execution_count": 18,
   "metadata": {
    "scrolled": true
   },
   "outputs": [
    {
     "data": {
      "text/html": [
       "<div>\n",
       "<style>\n",
       "    .dataframe thead tr:only-child th {\n",
       "        text-align: right;\n",
       "    }\n",
       "\n",
       "    .dataframe thead th {\n",
       "        text-align: left;\n",
       "    }\n",
       "\n",
       "    .dataframe tbody tr th {\n",
       "        vertical-align: top;\n",
       "    }\n",
       "</style>\n",
       "<table border=\"1\" class=\"dataframe\">\n",
       "  <thead>\n",
       "    <tr style=\"text-align: right;\">\n",
       "      <th></th>\n",
       "      <th>Age</th>\n",
       "      <th>Fare</th>\n",
       "      <th>Parch</th>\n",
       "      <th>Pclass</th>\n",
       "      <th>SibSp</th>\n",
       "      <th>Em_C</th>\n",
       "      <th>Em_Q</th>\n",
       "      <th>Sex_male</th>\n",
       "      <th>Price</th>\n",
       "      <th>Group</th>\n",
       "      <th>Title</th>\n",
       "      <th>Family</th>\n",
       "    </tr>\n",
       "  </thead>\n",
       "  <tbody>\n",
       "    <tr>\n",
       "      <th>0</th>\n",
       "      <td>22.0</td>\n",
       "      <td>7.2500</td>\n",
       "      <td>0</td>\n",
       "      <td>3</td>\n",
       "      <td>1</td>\n",
       "      <td>0</td>\n",
       "      <td>0</td>\n",
       "      <td>1</td>\n",
       "      <td>1.981001</td>\n",
       "      <td>1</td>\n",
       "      <td>3</td>\n",
       "      <td>0.0</td>\n",
       "    </tr>\n",
       "    <tr>\n",
       "      <th>1</th>\n",
       "      <td>38.0</td>\n",
       "      <td>71.2833</td>\n",
       "      <td>0</td>\n",
       "      <td>1</td>\n",
       "      <td>1</td>\n",
       "      <td>1</td>\n",
       "      <td>0</td>\n",
       "      <td>0</td>\n",
       "      <td>4.266662</td>\n",
       "      <td>1</td>\n",
       "      <td>2</td>\n",
       "      <td>0.5</td>\n",
       "    </tr>\n",
       "    <tr>\n",
       "      <th>2</th>\n",
       "      <td>26.0</td>\n",
       "      <td>7.9250</td>\n",
       "      <td>0</td>\n",
       "      <td>3</td>\n",
       "      <td>0</td>\n",
       "      <td>0</td>\n",
       "      <td>0</td>\n",
       "      <td>0</td>\n",
       "      <td>2.070022</td>\n",
       "      <td>0</td>\n",
       "      <td>1</td>\n",
       "      <td>0.0</td>\n",
       "    </tr>\n",
       "    <tr>\n",
       "      <th>3</th>\n",
       "      <td>35.0</td>\n",
       "      <td>53.1000</td>\n",
       "      <td>0</td>\n",
       "      <td>1</td>\n",
       "      <td>1</td>\n",
       "      <td>0</td>\n",
       "      <td>0</td>\n",
       "      <td>0</td>\n",
       "      <td>3.972177</td>\n",
       "      <td>1</td>\n",
       "      <td>2</td>\n",
       "      <td>0.5</td>\n",
       "    </tr>\n",
       "    <tr>\n",
       "      <th>4</th>\n",
       "      <td>35.0</td>\n",
       "      <td>8.0500</td>\n",
       "      <td>0</td>\n",
       "      <td>3</td>\n",
       "      <td>0</td>\n",
       "      <td>0</td>\n",
       "      <td>0</td>\n",
       "      <td>1</td>\n",
       "      <td>2.085672</td>\n",
       "      <td>0</td>\n",
       "      <td>3</td>\n",
       "      <td>0.5</td>\n",
       "    </tr>\n",
       "  </tbody>\n",
       "</table>\n",
       "</div>"
      ],
      "text/plain": [
       "    Age     Fare  Parch  Pclass  SibSp  Em_C  Em_Q  Sex_male     Price  Group  \\\n",
       "0  22.0   7.2500      0       3      1     0     0         1  1.981001      1   \n",
       "1  38.0  71.2833      0       1      1     1     0         0  4.266662      1   \n",
       "2  26.0   7.9250      0       3      0     0     0         0  2.070022      0   \n",
       "3  35.0  53.1000      0       1      1     0     0         0  3.972177      1   \n",
       "4  35.0   8.0500      0       3      0     0     0         1  2.085672      0   \n",
       "\n",
       "   Title  Family  \n",
       "0      3     0.0  \n",
       "1      2     0.5  \n",
       "2      1     0.0  \n",
       "3      2     0.5  \n",
       "4      3     0.5  "
      ]
     },
     "execution_count": 18,
     "metadata": {},
     "output_type": "execute_result"
    }
   ],
   "source": [
    "X_train = pd.DataFrame(df[:len(df1)])\n",
    "X_test = pd.DataFrame(df[len(df1):])\n",
    "pi=X_test.PassengerId\n",
    "Y_train = pd.Series(X_train[\"Survived\"])\n",
    "Y_test = pd.Series(X_test[\"Survived\"])\n",
    "X_train.drop(labels=[\"Survived\",\"PassengerId\"], axis=1, inplace=True)\n",
    "\n",
    "X_test.drop(labels=[\"Survived\",\"PassengerId\"], axis=1, inplace=True)\n",
    "\n",
    "X_train.head()"
   ]
  },
  {
   "cell_type": "code",
   "execution_count": 19,
   "metadata": {},
   "outputs": [
    {
     "data": {
      "text/plain": [
       "LogisticRegression(C=1.0, class_weight=None, dual=False, fit_intercept=True,\n",
       "          intercept_scaling=1, max_iter=100, multi_class='ovr', n_jobs=1,\n",
       "          penalty='l2', random_state=None, solver='liblinear', tol=0.0001,\n",
       "          verbose=0, warm_start=False)"
      ]
     },
     "execution_count": 19,
     "metadata": {},
     "output_type": "execute_result"
    }
   ],
   "source": [
    "logreg.fit(X_train, Y_train)"
   ]
  },
  {
   "cell_type": "code",
   "execution_count": 20,
   "metadata": {},
   "outputs": [
    {
     "name": "stdout",
     "output_type": "stream",
     "text": [
      "0.937799043062\n"
     ]
    }
   ],
   "source": [
    "from sklearn import metrics\n",
    "Y_pred = logreg.predict(X_test)\n",
    "print(metrics.accuracy_score(Y_test,Y_pred))"
   ]
  },
  {
   "cell_type": "markdown",
   "metadata": {},
   "source": [
    "best=0.937799043062"
   ]
  },
  {
   "cell_type": "code",
   "execution_count": 21,
   "metadata": {},
   "outputs": [
    {
     "name": "stdout",
     "output_type": "stream",
     "text": [
      "0.956937799043\n"
     ]
    }
   ],
   "source": [
    "from sklearn import svm\n",
    "from sklearn.svm import SVC\n",
    "C = 1.0  \n",
    "model = svm.SVC(kernel='linear', C=C)\n",
    "model.fit(X_train,Y_train)\n",
    "predicted = model.predict(X_test)\n",
    "expected = Y_test\n",
    "\n",
    "print(metrics.accuracy_score(expected,predicted))"
   ]
  },
  {
   "cell_type": "code",
   "execution_count": 22,
   "metadata": {},
   "outputs": [
    {
     "name": "stdout",
     "output_type": "stream",
     "text": [
      "0.918660287081\n"
     ]
    }
   ],
   "source": [
    "C = 1.0  \n",
    "model2 = svm.LinearSVC(C=C)\n",
    "model2.fit(X_train,Y_train)\n",
    "predicted = model2.predict(X_test)\n",
    "expected = Y_test\n",
    "\n",
    "print(metrics.accuracy_score(expected,predicted))"
   ]
  },
  {
   "cell_type": "code",
   "execution_count": 23,
   "metadata": {},
   "outputs": [
    {
     "name": "stdout",
     "output_type": "stream",
     "text": [
      "0.875598086124\n"
     ]
    }
   ],
   "source": [
    "from sklearn import datasets\n",
    "from sklearn import metrics\n",
    "from sklearn.naive_bayes import GaussianNB\n",
    "model3 = GaussianNB()\n",
    "model3.fit(X_train,Y_train)\n",
    "predicted3 = model3.predict(X_test)\n",
    "expected3 = Y_test\n",
    "print(metrics.accuracy_score(expected3, predicted3))"
   ]
  },
  {
   "cell_type": "code",
   "execution_count": 24,
   "metadata": {},
   "outputs": [
    {
     "name": "stdout",
     "output_type": "stream",
     "text": [
      "Fitting 10 folds for each of 64 candidates, totalling 640 fits\n"
     ]
    },
    {
     "name": "stderr",
     "output_type": "stream",
     "text": [
      "[Parallel(n_jobs=4)]: Done  42 tasks      | elapsed:    3.3s\n",
      "[Parallel(n_jobs=4)]: Done 192 tasks      | elapsed:   12.2s\n",
      "[Parallel(n_jobs=4)]: Done 442 tasks      | elapsed:   28.4s\n",
      "[Parallel(n_jobs=4)]: Done 640 out of 640 | elapsed:   41.6s finished\n"
     ]
    },
    {
     "name": "stdout",
     "output_type": "stream",
     "text": [
      "0.928229665072\n"
     ]
    }
   ],
   "source": [
    "from sklearn.ensemble import RandomForestClassifier\n",
    "from sklearn.model_selection import GridSearchCV, cross_val_score, StratifiedKFold, learning_curve\n",
    "\n",
    "RFC = RandomForestClassifier()\n",
    "RF_Param_Grid = {\n",
    "    \"max_depth\": [4,8,16,32],\n",
    "    \"min_samples_split\": [2,4,8,16],\n",
    "    \"min_samples_leaf\": [1,3],\n",
    "    \"bootstrap\": [False],\n",
    "    \"n_estimators\": [50,100],\n",
    "    \"criterion\": [\"gini\"]\n",
    "}\n",
    "kfold = StratifiedKFold(n_splits=10)\n",
    "\n",
    "g_clf = GridSearchCV(RFC, param_grid=RF_Param_Grid, cv=kfold, scoring=\"accuracy\", n_jobs=4, verbose=1)\n",
    "g_clf.fit(X_train, Y_train)\n",
    "bp = g_clf.best_params_\n",
    "\n",
    "clf = RandomForestClassifier(\n",
    "    bootstrap=bp[\"bootstrap\"], \n",
    "    criterion=bp[\"criterion\"], \n",
    "    max_depth=bp[\"max_depth\"], \n",
    "    min_samples_leaf=bp[\"min_samples_leaf\"], \n",
    "    min_samples_split=bp[\"min_samples_split\"], \n",
    "    n_estimators=bp[\"n_estimators\"]\n",
    ")\n",
    "clf.fit(X_train, Y_train)\n",
    "predicted4 = clf.predict(X_test)\n",
    "expected4 = Y_test\n",
    "print(metrics.accuracy_score(expected4, predicted4))"
   ]
  },
  {
   "cell_type": "code",
   "execution_count": 25,
   "metadata": {},
   "outputs": [
    {
     "data": {
      "text/plain": [
       "[<matplotlib.lines.Line2D at 0x1a1183a320>]"
      ]
     },
     "execution_count": 25,
     "metadata": {},
     "output_type": "execute_result"
    },
    {
     "data": {
      "image/png": "[encoded data removed]",
      "text/plain": [
       "<matplotlib.figure.Figure at 0x1a11657d68>"
      ]
     },
     "metadata": {},
     "output_type": "display_data"
    }
   ],
   "source": [
    "from sklearn.ensemble import RandomForestRegressor\n",
    "\n",
    "r_range = range(1, 90)\n",
    "accuracy1 = []\n",
    "for r in r_range:\n",
    "    rfr = RandomForestRegressor(n_estimators=r)\n",
    "    rfr.fit(X_train, Y_train)\n",
    "    yfit = rfr.predict(X_test).astype(int)\n",
    "    accuracy1.append(metrics.accuracy_score(Y_test, yfit))\n",
    "plt.plot(r_range, accuracy1)"
   ]
  },
  {
   "cell_type": "code",
   "execution_count": 26,
   "metadata": {
    "scrolled": false
   },
   "outputs": [
    {
     "data": {
      "text/plain": [
       "[<matplotlib.lines.Line2D at 0x1a14c62e80>]"
      ]
     },
     "execution_count": 26,
     "metadata": {},
     "output_type": "execute_result"
    },
    {
     "data": {
      "image/png": "[encoded data removed]",
      "text/plain": [
       "<matplotlib.figure.Figure at 0x1a0c504ba8>"
      ]
     },
     "metadata": {},
     "output_type": "display_data"
    }
   ],
   "source": [
    "from sklearn.neighbors import KNeighborsClassifier\n",
    "knn = KNeighborsClassifier(n_neighbors = 6)\n",
    "\n",
    "k_range = range(1, 90)\n",
    "accuracy = []\n",
    "for k in k_range:\n",
    "    knn = KNeighborsClassifier(n_neighbors=k)\n",
    "    knn.fit(X_train, Y_train)\n",
    "    Y_pred = knn.predict(X_test)\n",
    "    accuracy.append(metrics.accuracy_score(Y_test, Y_pred))\n",
    "plt.plot(k_range, accuracy)"
   ]
  },
  {
   "cell_type": "code",
   "execution_count": 27,
   "metadata": {
    "collapsed": true
   },
   "outputs": [],
   "source": [
    "import csv as csv\n",
    "submit_file = open(\"titanic_submit2.csv\", \"w\")\n",
    "file_object = csv.writer(submit_file)\n",
    "file_object.writerow([\"PassengerId\", \"Survived\"])\n",
    "file_object.writerows(zip(pi.values, Y_pred))\n",
    "submit_file.close()"
   ]
  }
 ],
 "metadata": {
  "kernelspec": {
   "display_name": "Python 3",
   "language": "python",
   "name": "python3"
  },
  "language_info": {
   "codemirror_mode": {
    "name": "ipython",
    "version": 3
   },
   "file_extension": ".py",
   "mimetype": "text/x-python",
   "name": "python",
   "nbconvert_exporter": "python",
   "pygments_lexer": "ipython3",
   "version": "3.6.3"
  }
 },
 "nbformat": 4,
 "nbformat_minor": 2
}
